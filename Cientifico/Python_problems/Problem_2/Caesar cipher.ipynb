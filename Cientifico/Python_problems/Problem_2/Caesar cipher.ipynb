{
 "cells": [
  {
   "cell_type": "code",
   "execution_count": 12,
   "id": "6f977384",
   "metadata": {},
   "outputs": [
    {
     "data": {
      "text/plain": [
       "'bmfy.dbtb ef, qbqfm'"
      ]
     },
     "execution_count": 12,
     "metadata": {},
     "output_type": "execute_result"
    }
   ],
   "source": [
    "import string\n",
    "def caesar_cipher(text, shift):\n",
    "    alphabet = string.ascii_lowercase\n",
    "    alphabet_shifted = alphabet[shift:]+alphabet[:shift]\n",
    "    trantab = str.maketrans(alphabet, alphabet_shifted)\n",
    "    return text.translate(trantab)\n",
    "\n",
    "caesar_cipher('alex.casa de, papel',1)"
   ]
  }
 ],
 "metadata": {
  "kernelspec": {
   "display_name": "Python 3 (ipykernel)",
   "language": "python",
   "name": "python3"
  },
  "language_info": {
   "codemirror_mode": {
    "name": "ipython",
    "version": 3
   },
   "file_extension": ".py",
   "mimetype": "text/x-python",
   "name": "python",
   "nbconvert_exporter": "python",
   "pygments_lexer": "ipython3",
   "version": "3.9.13"
  }
 },
 "nbformat": 4,
 "nbformat_minor": 5
}

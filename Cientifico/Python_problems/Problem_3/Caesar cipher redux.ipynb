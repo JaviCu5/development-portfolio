{
 "cells": [
  {
   "cell_type": "code",
   "execution_count": 7,
   "id": "beee8362",
   "metadata": {},
   "outputs": [
    {
     "name": "stdout",
     "output_type": "stream",
     "text": [
      "ryvk, mkbkmyvk\n"
     ]
    }
   ],
   "source": [
    "import string\n",
    "def caesar_cipher_redux(text, shift):\n",
    "    blank_text = ''\n",
    "    alphabet = string.ascii_lowercase\n",
    "    alphabet_shifted = alphabet[shift:]+alphabet[:shift]\n",
    "    for character in text:\n",
    "        if character in alphabet:\n",
    "            blank_text += alphabet_shifted[alphabet.index(character)]\n",
    "        else:\n",
    "            blank_text += character\n",
    "    return blank_text\n",
    "\n",
    "print(caesar_cipher_redux('hola, caracola',10))"
   ]
  }
 ],
 "metadata": {
  "kernelspec": {
   "display_name": "Python 3 (ipykernel)",
   "language": "python",
   "name": "python3"
  },
  "language_info": {
   "codemirror_mode": {
    "name": "ipython",
    "version": 3
   },
   "file_extension": ".py",
   "mimetype": "text/x-python",
   "name": "python",
   "nbconvert_exporter": "python",
   "pygments_lexer": "ipython3",
   "version": "3.9.13"
  }
 },
 "nbformat": 4,
 "nbformat_minor": 5
}
